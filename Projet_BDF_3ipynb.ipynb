{
  "nbformat": 4,
  "nbformat_minor": 0,
  "metadata": {
    "colab": {
      "provenance": []
    },
    "kernelspec": {
      "name": "python3",
      "display_name": "Python 3"
    },
    "language_info": {
      "name": "python"
    }
  },
  "cells": [
    {
      "cell_type": "code",
      "execution_count": 3,
      "metadata": {
        "colab": {
          "base_uri": "https://localhost:8080/"
        },
        "id": "UfIMJTWtrVWX",
        "outputId": "fb80a3ec-adb1-4870-d6ed-ea5e86c9f432"
      },
      "outputs": [
        {
          "output_type": "stream",
          "name": "stdout",
          "text": [
            "Looking in indexes: https://pypi.org/simple, https://us-python.pkg.dev/colab-wheels/public/simple/\n",
            "Collecting pyspark\n",
            "  Downloading pyspark-3.3.1.tar.gz (281.4 MB)\n",
            "\u001b[2K     \u001b[90m━━━━━━━━━━━━━━━━━━━━━━━━━━━━━━━━━━━━━━━\u001b[0m \u001b[32m281.4/281.4 MB\u001b[0m \u001b[31m3.8 MB/s\u001b[0m eta \u001b[36m0:00:00\u001b[0m\n",
            "\u001b[?25h  Preparing metadata (setup.py) ... \u001b[?25l\u001b[?25hdone\n",
            "Collecting py4j==0.10.9.5\n",
            "  Downloading py4j-0.10.9.5-py2.py3-none-any.whl (199 kB)\n",
            "\u001b[2K     \u001b[90m━━━━━━━━━━━━━━━━━━━━━━━━━━━━━━━━━━━━━━\u001b[0m \u001b[32m199.7/199.7 KB\u001b[0m \u001b[31m15.4 MB/s\u001b[0m eta \u001b[36m0:00:00\u001b[0m\n",
            "\u001b[?25hBuilding wheels for collected packages: pyspark\n",
            "  Building wheel for pyspark (setup.py) ... \u001b[?25l\u001b[?25hdone\n",
            "  Created wheel for pyspark: filename=pyspark-3.3.1-py2.py3-none-any.whl size=281845512 sha256=7360083370b74787f95621e9e1ce79827f994c4d71daa45c2e7420ebd0581a4a\n",
            "  Stored in directory: /root/.cache/pip/wheels/43/dc/11/ec201cd671da62fa9c5cc77078235e40722170ceba231d7598\n",
            "Successfully built pyspark\n",
            "Installing collected packages: py4j, pyspark\n",
            "Successfully installed py4j-0.10.9.5 pyspark-3.3.1\n"
          ]
        }
      ],
      "source": [
        "pip install pyspark"
      ]
    },
    {
      "cell_type": "markdown",
      "source": [
        "#Load Data"
      ],
      "metadata": {
        "id": "t_XkWHUprq_p"
      }
    },
    {
      "cell_type": "code",
      "source": [
        "# Import necessary libraries\n",
        "from pyspark.sql import SparkSession\n",
        "from pyspark.ml.evaluation import RegressionEvaluator\n",
        "from pyspark.ml.recommendation import ALS\n"
      ],
      "metadata": {
        "id": "hQa5kYZPaczD"
      },
      "execution_count": 4,
      "outputs": []
    },
    {
      "cell_type": "code",
      "source": [
        "spark = SparkSession.builder.appName('movielens').getOrCreate()\n",
        "\n",
        "df_ratings = spark.read.csv('ratings.csv', inferSchema = True, header = True)\n",
        "df_ratings = df_ratings.dropDuplicates()\n",
        "df_ratings.show()\n",
        "df_ratings.describe().show()\n"
      ],
      "metadata": {
        "colab": {
          "base_uri": "https://localhost:8080/"
        },
        "id": "92-zvfIfsUzZ",
        "outputId": "fde78d67-0fcf-481d-8de0-6388d9336841"
      },
      "execution_count": 113,
      "outputs": [
        {
          "output_type": "stream",
          "name": "stdout",
          "text": [
            "+------+-------+------+----------+\n",
            "|userId|movieId|rating| timestamp|\n",
            "+------+-------+------+----------+\n",
            "|     1|    110|   1.0|1425941529|\n",
            "|     1|    147|   4.5|1425942435|\n",
            "|     1|    858|   5.0|1425941523|\n",
            "|     1|   1221|   5.0|1425941546|\n",
            "|     1|   1246|   5.0|1425941556|\n",
            "|     1|   1968|   4.0|1425942148|\n",
            "|     1|   2762|   4.5|1425941300|\n",
            "|     1|   2918|   5.0|1425941593|\n",
            "|     1|   2959|   4.0|1425941601|\n",
            "|     1|   4226|   4.0|1425942228|\n",
            "|     1|   4878|   5.0|1425941434|\n",
            "|     1|   5577|   5.0|1425941397|\n",
            "|     1|  33794|   4.0|1425942005|\n",
            "|     1|  54503|   3.5|1425941313|\n",
            "|     1|  58559|   4.0|1425942007|\n",
            "|     1|  59315|   5.0|1425941502|\n",
            "|     1|  68358|   5.0|1425941464|\n",
            "|     1|  69844|   5.0|1425942139|\n",
            "|     1|  73017|   5.0|1425942699|\n",
            "|     1|  81834|   5.0|1425942133|\n",
            "+------+-------+------+----------+\n",
            "only showing top 20 rows\n",
            "\n",
            "+-------+-----------------+------------------+------------------+--------------------+\n",
            "|summary|           userId|           movieId|            rating|           timestamp|\n",
            "+-------+-----------------+------------------+------------------+--------------------+\n",
            "|  count|         26024289|          26024289|          26024289|            26024289|\n",
            "|   mean| 135037.090248114|15849.109677040553|3.5280903543608817|1.1712584326913223E9|\n",
            "| stddev|78176.19722170963|31085.257531391508|1.0654427636662405|2.0528887028185263E8|\n",
            "|    min|                1|                 1|               0.5|           789652004|\n",
            "|    max|           270896|            176275|               5.0|          1501829870|\n",
            "+-------+-----------------+------------------+------------------+--------------------+\n",
            "\n"
          ]
        }
      ]
    },
    {
      "cell_type": "code",
      "source": [
        "spark2 = SparkSession.builder.appName(\"movielens\").getOrCreate()\n",
        "\n",
        "df_movies = spark2.read.csv('movies_metadata.csv', inferSchema = True, header = True)\n",
        "df_movies = df_movies.dropDuplicates()\n",
        "df_movies.show()\n",
        "df_movies.describe().show()"
      ],
      "metadata": {
        "id": "zsCa8GkCm1PY"
      },
      "execution_count": null,
      "outputs": []
    },
    {
      "cell_type": "markdown",
      "source": [
        "#Regression Models"
      ],
      "metadata": {
        "id": "TvXwOl79ap0b"
      }
    },
    {
      "cell_type": "code",
      "source": [
        "(train,test) = df_ratings.randomSplit([0.8,0.2], seed=42)\n",
        "\n",
        "\n",
        "als = ALS(maxIter=5, regParam=0.1, userCol='userId', itemCol='movieId',ratingCol='rating', coldStartStrategy='drop')\n",
        "\n",
        "model = als.fit(train)\n",
        "\n",
        "pred = model.transform(test)\n",
        "\n",
        "pred.show()"
      ],
      "metadata": {
        "colab": {
          "base_uri": "https://localhost:8080/"
        },
        "id": "IGAUKswEea1p",
        "outputId": "ed1fbe5f-1a93-40bd-b40b-714288f18fc3"
      },
      "execution_count": 115,
      "outputs": [
        {
          "output_type": "stream",
          "name": "stdout",
          "text": [
            "+------+-------+------+----------+----------+\n",
            "|userId|movieId|rating| timestamp|prediction|\n",
            "+------+-------+------+----------+----------+\n",
            "|     1|    858|   5.0|1425941523| 4.1971498|\n",
            "|     1|   2762|   4.5|1425941300| 3.9475875|\n",
            "|     1|   2959|   4.0|1425941601|  4.572944|\n",
            "|     1|  54503|   3.5|1425941313| 4.2623706|\n",
            "|     1|  81834|   5.0|1425942133|   4.06699|\n",
            "|     1|  96821|   5.0|1425941382|  4.579473|\n",
            "|     3|    480|   3.0|1048076925| 2.6197872|\n",
            "|     3|    527|   4.0|1048076900|  3.507081|\n",
            "|     3|   1270|   3.0|1048076976| 2.8426297|\n",
            "| 52224|  51662|   3.5|1292347002| 3.3230581|\n",
            "| 52224|  60069|   4.5|1292346644| 3.6704571|\n",
            "| 52224|  60546|   4.5|1292346916| 3.2129042|\n",
            "| 52224|  79132|   2.5|1292346348|  3.781142|\n",
            "|205600|  99114|   4.0|1486187642| 4.0379176|\n",
            "|205601|     11|   3.0| 846046750| 3.3675423|\n",
            "|205601|    289|   4.0| 846047705| 3.1375399|\n",
            "|205601|    319|   4.0| 846047486| 3.3660438|\n",
            "|205601|    337|   3.0| 846046807| 3.4401486|\n",
            "|205601|    339|   4.0| 846046572|    3.2531|\n",
            "|205601|    364|   4.0| 846046600| 3.7298028|\n",
            "+------+-------+------+----------+----------+\n",
            "only showing top 20 rows\n",
            "\n"
          ]
        }
      ]
    },
    {
      "cell_type": "code",
      "source": [
        "eval = RegressionEvaluator(metricName='rmse', labelCol='rating', predictionCol='prediction')\n",
        "\n",
        "rmse = eval.evaluate(pred)\n",
        "\n",
        "print(f'RMSE: {rmse}')"
      ],
      "metadata": {
        "colab": {
          "base_uri": "https://localhost:8080/"
        },
        "id": "53KSIzmstfex",
        "outputId": "9ef38356-84fc-4e35-c35f-1162eee8acf6"
      },
      "execution_count": 13,
      "outputs": [
        {
          "output_type": "stream",
          "name": "stdout",
          "text": [
            "RMSE: 1.95949835\n"
          ]
        }
      ]
    },
    {
      "cell_type": "markdown",
      "source": [
        "#Prediction of the top movies recommended for the User 1"
      ],
      "metadata": {
        "id": "aEkp_SQ22PX9"
      }
    },
    {
      "cell_type": "markdown",
      "source": [
        "Here is the prediction of the best rated movie by the User 1.\n"
      ],
      "metadata": {
        "id": "vEd4Fd3rjXsQ"
      }
    },
    {
      "cell_type": "code",
      "source": [
        "def user_i_recommendation(i,test):\n",
        "  user_i = test.filter(test['userId'] == 1).select(['movieId','userId'])\n",
        "  model_i = model.transform(user_i).orderBy('prediction',ascending=False)\n",
        "  model_i.show(1)\n",
        "  first_row = model_i.first()\n",
        "  movieId_recommended = first_row.movieId\n",
        "  return movieId_recommended\n",
        "\n",
        "\n",
        "movieId_recommended = user_i_recommendation(1,test)\n"
      ],
      "metadata": {
        "id": "LRooNN93sbuu",
        "colab": {
          "base_uri": "https://localhost:8080/"
        },
        "outputId": "ee7dbe63-2271-43ab-ed23-8f5eb92284dd"
      },
      "execution_count": 147,
      "outputs": [
        {
          "output_type": "stream",
          "name": "stdout",
          "text": [
            "+-------+------+----------+\n",
            "|movieId|userId|prediction|\n",
            "+-------+------+----------+\n",
            "|  96821|     1|  4.579473|\n",
            "+-------+------+----------+\n",
            "only showing top 1 row\n",
            "\n"
          ]
        }
      ]
    },
    {
      "cell_type": "code",
      "source": [
        "i = '1'\n",
        "movie_recommended = df_movies.filter(df_movies['id'] == str(movieId_recommended)).select(['original_title'])\n",
        "print('Best movie recommended to the User ' + i + ' :')\n",
        "movie_recommended.show()\n",
        "\n",
        "print('Official rating of the User ' + i +  ' for this movie :')\n",
        "movie_rating1 = df_ratings.filter(df_ratings['movieId'] == str(movieId_recommended))\n",
        "movie_rating = movie_rating1.filter(movie_rating1['userId'] == i).select(['rating'])\n",
        "movie_rating.show()\n"
      ],
      "metadata": {
        "colab": {
          "base_uri": "https://localhost:8080/"
        },
        "id": "ac6CBO-JZo8R",
        "outputId": "6e73f83c-b717-4018-908f-101ab8ba8651"
      },
      "execution_count": 144,
      "outputs": [
        {
          "output_type": "stream",
          "name": "stdout",
          "text": [
            "Best movie recommended to the User 1 :\n",
            "+------------------+\n",
            "|    original_title|\n",
            "+------------------+\n",
            "|Cesare deve morire|\n",
            "+------------------+\n",
            "\n",
            "Official rating of the user1 for this movie :\n",
            "+------+\n",
            "|rating|\n",
            "+------+\n",
            "|   5.0|\n",
            "+------+\n",
            "\n"
          ]
        }
      ]
    },
    {
      "cell_type": "markdown",
      "source": [
        "#Top N Movies Similar"
      ],
      "metadata": {
        "id": "XxryKZijjlgG"
      }
    },
    {
      "cell_type": "code",
      "source": [
        "from pyspark.ml.feature import Tokenizer\n",
        "from pyspark.ml.feature import CountVectorizer\n",
        "from pyspark.ml.feature import IDF\n",
        "from pyspark.ml.feature import VectorAssembler\n",
        "from pyspark.ml.clustering import KMeans\n",
        "\n",
        "\n",
        "data = df_movies.select('budget', 'vote_count','genres','title')\n",
        "data = data.dropna()\n",
        "# create the tokenizer object\n",
        "tokenizer = Tokenizer(inputCol='genres', outputCol='words')\n",
        "\n",
        "# transform the data\n",
        "words_data = tokenizer.transform(data)\n",
        "\n",
        "# create the count vectorizer object\n",
        "cv = CountVectorizer(inputCol='words', outputCol='raw_features')\n",
        "\n",
        "# fit the count vectorizer to the data\n",
        "cv_model = cv.fit(words_data)\n",
        "\n",
        "# transform the data\n",
        "featurized_data = cv_model.transform(words_data)\n",
        "\n",
        "# create the idf object\n",
        "idf = IDF(inputCol=\"raw_features\", outputCol=\"features\")\n",
        "\n",
        "# fit the idf to the data\n",
        "idf_model = idf.fit(featurized_data)\n",
        "\n",
        "# transform the data\n",
        "rescaled_data = idf_model.transform(featurized_data)\n",
        "\n",
        "# create the assembler object\n",
        "assembler = VectorAssembler(inputCols=[\"features\"], outputCol=\"features_norm\")\n",
        "\n",
        "# transform the data\n",
        "output = assembler.transform(rescaled_data)\n",
        "\n",
        "# build the kmeans model\n",
        "\n",
        "kmeans = KMeans().setK(5).setSeed(1)\n",
        "\n",
        "model = kmeans.fit(output)\n",
        "\n",
        "# Make predictions\n",
        "predictions = model.transform(output)\n",
        "\n"
      ],
      "metadata": {
        "id": "9APQXboMhNBz"
      },
      "execution_count": 245,
      "outputs": []
    },
    {
      "cell_type": "code",
      "source": [
        "from pyspark.sql.functions import from_json\n",
        "from pyspark.sql.types import *\n",
        "from pyspark.sql.functions import *\n",
        "# Columns - production_companies , production_countries , genres have Json array values\n",
        "schema = ArrayType(StructType([\n",
        "        StructField('id', IntegerType(), nullable=False), \n",
        "        StructField('name', StringType(), nullable=False)]))\n",
        "\n",
        "\n",
        "#values based on Json keys will  produce list\n",
        "convertUDF = udf(lambda s: ','.join(map(str, s)),StringType())\n",
        "\n",
        "#Json parsing\n",
        "predictions=predictions.withColumn(\"genres_value\",convertUDF(from_json(predictions.genres,schema).getField(\"name\")))\n",
        "\n"
      ],
      "metadata": {
        "id": "Ou8Ad-usnr-_"
      },
      "execution_count": 246,
      "outputs": []
    },
    {
      "cell_type": "markdown",
      "source": [
        "Let's see for example the cluster 2 and see if movies in this cluster are related."
      ],
      "metadata": {
        "id": "_keJxuo64KBN"
      }
    },
    {
      "cell_type": "code",
      "source": [
        "predictions.filter(predictions['prediction'] == 2).select(['genres_value','title']).show(3,False)"
      ],
      "metadata": {
        "colab": {
          "base_uri": "https://localhost:8080/"
        },
        "id": "jTfzA3ipmVss",
        "outputId": "a2ce1bd7-9113-43e7-f86a-b174b34df31d"
      },
      "execution_count": 247,
      "outputs": [
        {
          "output_type": "stream",
          "name": "stdout",
          "text": [
            "+---------------------------+------------+\n",
            "|genres_value               |title       |\n",
            "+---------------------------+------------+\n",
            "|Action,Crime,Drama,Thriller|Heat        |\n",
            "|Action,Adventure,Thriller  |Sudden Death|\n",
            "|Adventure,Action,Thriller  |GoldenEye   |\n",
            "+---------------------------+------------+\n",
            "only showing top 3 rows\n",
            "\n"
          ]
        }
      ]
    },
    {
      "cell_type": "markdown",
      "source": [
        "Let's try to get top 3 movies similar to the movie : Toy Story"
      ],
      "metadata": {
        "id": "sfeCex28-Yna"
      }
    },
    {
      "cell_type": "code",
      "source": [
        "movie_name = 'Toy Story'\n",
        "\n",
        "suggestions = predictions.select(\"title\", \"prediction\")\n",
        "cluster_suggested = suggestions.filter(suggestions.title == movie_name).select(\"prediction\").collect()[0][0]\n",
        "\n",
        "movies_suggested = predictions.filter(predictions.prediction == cluster_suggested)\n",
        "\n",
        "# show the similar movies\n",
        "movies_suggested.selectExpr(\"*\",\"row_number() over (ORDER BY 1) as row_num\").select(['genres_value','title']).filter(\"row_num > 1\").show(3, truncate=False, vertical=True)\n"
      ],
      "metadata": {
        "colab": {
          "base_uri": "https://localhost:8080/"
        },
        "id": "xLIhvfKO2-o8",
        "outputId": "84da9d19-4da3-4d30-98a8-157250b6a0d4"
      },
      "execution_count": 248,
      "outputs": [
        {
          "output_type": "stream",
          "name": "stdout",
          "text": [
            "-RECORD 0-------------------------------------\n",
            " genres_value | Adventure,Fantasy,Family      \n",
            " title        | Jumanji                       \n",
            "-RECORD 1-------------------------------------\n",
            " genres_value | Action,Adventure,Drama,Family \n",
            " title        | Tom and Huck                  \n",
            "-RECORD 2-------------------------------------\n",
            " genres_value | Family,Animation,Adventure    \n",
            " title        | Balto                         \n",
            "only showing top 3 rows\n",
            "\n"
          ]
        }
      ]
    }
  ]
}